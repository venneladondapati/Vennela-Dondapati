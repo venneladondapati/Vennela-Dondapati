{
 "cells": [
  {
   "cell_type": "code",
   "execution_count": 1,
   "metadata": {},
   "outputs": [],
   "source": [
    "# libraries\n",
    "import numpy as np # used for handling numbers\n",
    "import pandas as pd # used for handling the dataset\n",
    "from sklearn.impute import SimpleImputer # used for handling missing data\n",
    "from sklearn.preprocessing import LabelEncoder, OneHotEncoder # used for encoding categorical data\n",
    "from sklearn.model_selection import train_test_split # used for splitting training and testing data\n",
    "from sklearn.preprocessing import StandardScaler # used for feature scaling"
   ]
  },
  {
   "cell_type": "code",
   "execution_count": 57,
   "metadata": {},
   "outputs": [],
   "source": [
    "dataset = pd.read_csv('/Users/apple/output.csv') # to import the dataset into a variable\n",
    "# Splitting the attributes into independent and dependent attributes\n",
    "X = dataset.iloc[:, :-1].values # attributes to determine dependent variable / Class\n",
    "Y = dataset.iloc[:, -1].values # dependent variable / Class"
   ]
  },
  {
   "cell_type": "code",
   "execution_count": 58,
   "metadata": {},
   "outputs": [
    {
     "data": {
      "text/plain": [
       "array([[1, 'A Dijiang', 'M', ..., \"Basketball Men's Basketball\", nan,\n",
       "        'China'],\n",
       "       [2, 'A Lamusi', 'M', ..., \"Judo Men's Extra-Lightweight\", nan,\n",
       "        'China'],\n",
       "       [3, 'Gunnar Nielsen Aaby', 'M', ..., \"Football Men's Football\",\n",
       "        nan, 'Denmark'],\n",
       "       ...,\n",
       "       [135570, 'Piotr ya', 'M', ...,\n",
       "        \"Ski Jumping Men's Large Hill, Team\", nan, 'Poland'],\n",
       "       [135571, 'Tomasz Ireneusz ya', 'M', ..., \"Bobsleigh Men's Four\",\n",
       "        nan, 'Poland'],\n",
       "       [135571, 'Tomasz Ireneusz ya', 'M', ..., \"Bobsleigh Men's Four\",\n",
       "        nan, 'Poland']], dtype=object)"
      ]
     },
     "execution_count": 58,
     "metadata": {},
     "output_type": "execute_result"
    }
   ],
   "source": [
    "X"
   ]
  },
  {
   "cell_type": "code",
   "execution_count": 59,
   "metadata": {},
   "outputs": [
    {
     "data": {
      "text/plain": [
       "array([nan, nan, nan, ..., nan, nan, nan], dtype=object)"
      ]
     },
     "execution_count": 59,
     "metadata": {},
     "output_type": "execute_result"
    }
   ],
   "source": [
    "Y"
   ]
  },
  {
   "cell_type": "code",
   "execution_count": 61,
   "metadata": {},
   "outputs": [],
   "source": [
    "# handling the missing data and replace missing values with nan from numpy and replace with mean of all the other values\n",
    "imputer = SimpleImputer(missing_values=np.nan, strategy='mean') \n",
    "imputer = imputer.fit(X[:, 3:6])\n",
    "X[:, 3:6] = imputer.transform(X[:, 3:6])"
   ]
  },
  {
   "cell_type": "code",
   "execution_count": 62,
   "metadata": {},
   "outputs": [
    {
     "data": {
      "text/plain": [
       "array([[24.0, 180.0, 80.0],\n",
       "       [23.0, 170.0, 60.0],\n",
       "       [24.0, 175.33896987366376, 70.70239290053351],\n",
       "       ...,\n",
       "       [27.0, 176.0, 59.0],\n",
       "       [30.0, 185.0, 96.0],\n",
       "       [34.0, 185.0, 96.0]], dtype=object)"
      ]
     },
     "execution_count": 62,
     "metadata": {},
     "output_type": "execute_result"
    }
   ],
   "source": [
    "X[:, 3:6]"
   ]
  },
  {
   "cell_type": "code",
   "execution_count": 63,
   "metadata": {},
   "outputs": [
    {
     "data": {
      "text/plain": [
       "0         Bronze\n",
       "1         Bronze\n",
       "2           Gold\n",
       "3           Gold\n",
       "4         Bronze\n",
       "           ...  \n",
       "271111    Bronze\n",
       "271112      Gold\n",
       "271113      Gold\n",
       "271114    Bronze\n",
       "271115      Gold\n",
       "Name: Medal, Length: 271116, dtype: object"
      ]
     },
     "execution_count": 63,
     "metadata": {},
     "output_type": "execute_result"
    }
   ],
   "source": [
    "df = pd.DataFrame(dataset)\n",
    "df.groupby('Year').Medal.transform(lambda x: x.fillna(x.mode()[0]))"
   ]
  },
  {
   "cell_type": "code",
   "execution_count": 64,
   "metadata": {},
   "outputs": [],
   "source": [
    "# splitting the dataset into training set and test set\n",
    "X_train, X_test, Y_train, Y_test = train_test_split(X, Y, test_size=0.2, random_state=0)"
   ]
  },
  {
   "cell_type": "code",
   "execution_count": 65,
   "metadata": {},
   "outputs": [
    {
     "data": {
      "text/plain": [
       "(array([[107795, 'Uta Schtz', 'F', ...,\n",
       "         \"Swimming Women's 200 metres Freestyle\", nan, 'Germany'],\n",
       "        [2931, 'Rose \"Rosie\" Allwood (-Morrison)', 'F', ...,\n",
       "         \"Athletics Women's 4 x 100 metres Relay\", nan, 'Jamaica'],\n",
       "        [19866, 'Chaput', 'M', ..., \"Cycling Men's Sprint\", nan, 'France'],\n",
       "        ...,\n",
       "        [61965, 'Leopold Kohl', 'M', ...,\n",
       "         \"Cross Country Skiing Men's 18 kilometres\", nan, 'Austria'],\n",
       "        [76445, 'Mulomowandau Erick Mathoho', 'M', ...,\n",
       "         \"Football Men's Football\", nan, 'South Africa'],\n",
       "        [59683, 'David Taro Kikuchi', 'M', ...,\n",
       "         \"Gymnastics Men's Individual All-Around\", nan, 'Canada']],\n",
       "       dtype=object), array([[109485, 'Shek Wai Hung', 'M', ...,\n",
       "         \"Gymnastics Men's Pommelled Horse\", nan, 'China'],\n",
       "        [116150, 'Mlanie Suchet', 'F', ...,\n",
       "         \"Alpine Skiing Women's Downhill\", nan, 'France'],\n",
       "        [92674, 'Susan Jane \"Sue\" Pedersen (-Pankey)', 'F', ...,\n",
       "         \"Swimming Women's 100 metres Freestyle\", 'Silver', 'USA'],\n",
       "        ...,\n",
       "        [129606, 'Michael Vincent \"Mike\" Wenden', 'M', ...,\n",
       "         \"Swimming Men's 4 x 100 metres Freestyle Relay\", 'Bronze',\n",
       "         'Australia'],\n",
       "        [39329, 'Wilfried Geeroms', 'M', ...,\n",
       "         \"Athletics Men's 400 metres Hurdles\", nan, 'Belgium'],\n",
       "        [5977, 'Klaus Auhuber', 'M', ..., \"Ice Hockey Men's Ice Hockey\",\n",
       "         nan, 'Germany']], dtype=object), array([nan, nan, nan, ..., nan, nan, nan], dtype=object), array(['Hong Kong', nan, nan, ..., nan, nan, nan], dtype=object))"
      ]
     },
     "execution_count": 65,
     "metadata": {},
     "output_type": "execute_result"
    }
   ],
   "source": [
    "X_train, X_test, Y_train, Y_test"
   ]
  }
 ],
 "metadata": {
  "kernelspec": {
   "display_name": "Python 3",
   "language": "python",
   "name": "python3"
  },
  "language_info": {
   "codemirror_mode": {
    "name": "ipython",
    "version": 3
   },
   "file_extension": ".py",
   "mimetype": "text/x-python",
   "name": "python",
   "nbconvert_exporter": "python",
   "pygments_lexer": "ipython3",
   "version": "3.7.4"
  }
 },
 "nbformat": 4,
 "nbformat_minor": 2
}
